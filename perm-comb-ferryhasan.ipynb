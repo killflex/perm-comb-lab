{
 "cells": [
  {
   "cell_type": "code",
   "execution_count": 1,
   "metadata": {},
   "outputs": [
    {
     "name": "stdout",
     "output_type": "stream",
     "text": [
      "6 Permutasian\n"
     ]
    }
   ],
   "source": [
    "# No. 1\n",
    "\n",
    "from itertools import permutations as pm\n",
    "\n",
    "perm = pm(['A','B','C'])\n",
    "\n",
    "jumlahpermutasi = len(list(perm))\n",
    "print (jumlahpermutasi,\"Permutasian\")"
   ]
  },
  {
   "cell_type": "code",
   "execution_count": 2,
   "metadata": {},
   "outputs": [
    {
     "name": "stdout",
     "output_type": "stream",
     "text": [
      "Permutasian Ke - 1 ('A', 'B', 'C')\n",
      "Permutasian Ke - 2 ('A', 'C', 'B')\n",
      "Permutasian Ke - 3 ('B', 'A', 'C')\n",
      "Permutasian Ke - 4 ('B', 'C', 'A')\n",
      "Permutasian Ke - 5 ('C', 'A', 'B')\n",
      "Permutasian Ke - 6 ('C', 'B', 'A')\n"
     ]
    }
   ],
   "source": [
    "# No. 2\n",
    "\n",
    "from itertools import permutations as pm\n",
    "\n",
    "perm = pm(['A','B','C'])\n",
    "nomor = 0\n",
    "\n",
    "for i in list(perm):\n",
    "    print(\"Permutasian Ke -\", nomor + 1,i)\n",
    "    nomor = nomor + 1"
   ]
  },
  {
   "cell_type": "code",
   "execution_count": 3,
   "metadata": {},
   "outputs": [
    {
     "name": "stdout",
     "output_type": "stream",
     "text": [
      "970200 Cara\n"
     ]
    }
   ],
   "source": [
    "# No. 3\n",
    "\n",
    "from itertools import permutations as pm\n",
    "\n",
    "perm = pm(range(100),3)\n",
    "\n",
    "jumlahpermutasi = len(tuple(perm))\n",
    "print (jumlahpermutasi,\"Cara\")"
   ]
  },
  {
   "cell_type": "code",
   "execution_count": 4,
   "metadata": {},
   "outputs": [
    {
     "name": "stdout",
     "output_type": "stream",
     "text": [
      "64864800\n"
     ]
    },
    {
     "data": {
      "text/plain": [
       "' for i in (perm):\\n    print(i, \"permutasian ke -\", nomor + 1)\\n    nomor = nomor + 1\\n'"
      ]
     },
     "execution_count": 4,
     "metadata": {},
     "output_type": "execute_result"
    }
   ],
   "source": [
    "# No. 4\n",
    "\n",
    "import numpy as np\n",
    "from itertools import permutations as pm\n",
    "\n",
    "data = np.array(['M','A','S','S','A','C','H','U','S','E','T','T','S'])\n",
    "nomor = 0\n",
    "\n",
    "perm = set(pm(data))\n",
    "\n",
    "jumlahpermutasi = len(perm)\n",
    "print(jumlahpermutasi)"
   ]
  },
  {
   "cell_type": "code",
   "execution_count": 5,
   "metadata": {},
   "outputs": [
    {
     "name": "stdout",
     "output_type": "stream",
     "text": [
      "252 Cara\n"
     ]
    }
   ],
   "source": [
    "# No. 5\n",
    "\n",
    "from itertools import combinations as cb\n",
    "\n",
    "comb = cb(range(10),5)\n",
    "\n",
    "jumlahkombinasi = len(tuple(comb))\n",
    "print (jumlahkombinasi,\"Cara\")"
   ]
  },
  {
   "cell_type": "code",
   "execution_count": 6,
   "metadata": {},
   "outputs": [
    {
     "name": "stdout",
     "output_type": "stream",
     "text": [
      "27720 Cara\n"
     ]
    }
   ],
   "source": [
    "# No. 6\n",
    "\n",
    "from itertools import combinations as cb\n",
    "\n",
    "combIF = cb(range(9),3)\n",
    "combSI = cb(range(11),4)\n",
    "\n",
    "jumlahkombinasi = len(tuple(combIF))*len(tuple(combSI))\n",
    "print(jumlahkombinasi, \"Cara\")"
   ]
  },
  {
   "cell_type": "code",
   "execution_count": 7,
   "metadata": {},
   "outputs": [
    {
     "name": "stdout",
     "output_type": "stream",
     "text": [
      "Kombinasi Ke - 1 ('A', 'B')\n",
      "Kombinasi Ke - 2 ('A', 'C')\n",
      "Kombinasi Ke - 3 ('B', 'C')\n"
     ]
    }
   ],
   "source": [
    "# No. 7\n",
    "\n",
    "from itertools import combinations as cb\n",
    "\n",
    "comb = cb(['A','B','C'],2)\n",
    "nomor = 0\n",
    "\n",
    "for i in list(comb):\n",
    "    print(\"Kombinasi Ke -\", nomor + 1,i)\n",
    "    nomor = nomor + 1"
   ]
  }
 ],
 "metadata": {
  "kernelspec": {
   "display_name": "Python 3.10.8 64-bit",
   "language": "python",
   "name": "python3"
  },
  "language_info": {
   "codemirror_mode": {
    "name": "ipython",
    "version": 3
   },
   "file_extension": ".py",
   "mimetype": "text/x-python",
   "name": "python",
   "nbconvert_exporter": "python",
   "pygments_lexer": "ipython3",
   "version": "3.10.8"
  },
  "orig_nbformat": 4,
  "vscode": {
   "interpreter": {
    "hash": "4bb11686930406edb12cb7b2a4a81cb9c4a7ea373e8ebc4d3dd2320c61a97446"
   }
  }
 },
 "nbformat": 4,
 "nbformat_minor": 2
}
