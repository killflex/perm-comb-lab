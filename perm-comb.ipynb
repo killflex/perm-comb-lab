{
 "cells": [
  {
   "cell_type": "code",
   "execution_count": 3,
   "metadata": {},
   "outputs": [
    {
     "name": "stdout",
     "output_type": "stream",
     "text": [
      "6\n"
     ]
    }
   ],
   "source": [
    "# No. 1\n",
    "from itertools import permutations\n",
    "\n",
    "perm = permutations(['A','B','C'])\n",
    "\n",
    "jumlahpermutasi = len(list(perm))\n",
    "print (jumlahpermutasi)"
   ]
  },
  {
   "cell_type": "code",
   "execution_count": null,
   "metadata": {},
   "outputs": [],
   "source": []
  }
 ],
 "metadata": {
  "kernelspec": {
   "display_name": "Python 3.10.8 64-bit",
   "language": "python",
   "name": "python3"
  },
  "language_info": {
   "codemirror_mode": {
    "name": "ipython",
    "version": 3
   },
   "file_extension": ".py",
   "mimetype": "text/x-python",
   "name": "python",
   "nbconvert_exporter": "python",
   "pygments_lexer": "ipython3",
   "version": "3.10.8"
  },
  "orig_nbformat": 4,
  "vscode": {
   "interpreter": {
    "hash": "4bb11686930406edb12cb7b2a4a81cb9c4a7ea373e8ebc4d3dd2320c61a97446"
   }
  }
 },
 "nbformat": 4,
 "nbformat_minor": 2
}
